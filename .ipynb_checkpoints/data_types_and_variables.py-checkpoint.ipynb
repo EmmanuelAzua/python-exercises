{
 "cells": [
  {
   "cell_type": "code",
   "execution_count": null,
   "metadata": {},
   "outputs": [],
   "source": [
    "# This is my first PYTHON independent practice exercise file\n",
    "\n",
    "#99.9\n",
    "#type(99.9)\n",
    "\n",
    "#type(False)\n",
    "\n",
    "### What data type would best represent:\n",
    "\n",
    "# A term or phrase typed into a search box?                          R.- String\n",
    "# If a user is logged in?                                            R.- Boolean\n",
    "# A discount amount to apply to a user's shopping cart?              R.- Float\n",
    "# Whether or not a coupon code is valid?                             R.- Boolean\n",
    "# An email address typed into a registration form?                   R.- String\n",
    "# The price of a product?                                            R.- Float\n",
    "# A Matrix?                                                          R.- List\n",
    "# The email addresses collected from a registration form?            R.- Dictionary\n",
    "# Information about applicants to Codeup's data science program?     R.- Dictionary\n",
    "\n",
    "\n",
    "\n",
    "### For each of the following code blocks, read the expression and predict what the result of evaluating it would be, then execute the expression in your Python REPL\n",
    "\n",
    "# 1. Error\n",
    "# 2. 2\n",
    "# 3. Int\n",
    "# 4. none\n",
    "# 5. Error\n",
    "# 6. False\n",
    "# 7. False\n",
    "# 8. False\n",
    "# 9. True\n",
    "# 10. Error\n",
    "# 11. 1\n",
    "# 12. False\n",
    "# 13. False\n",
    "# 14. Error, syntax\n",
    "# 15. True\n",
    "# 16. True\n",
    "# 17. Error, concat\n",
    "# 18. [1 , 2]\n",
    "# 19. [1 , 1]\n",
    "# 20. Error, can't multiply sequence by non-int of type 'list'\n",
    "# 21. True\n",
    "# 22. TypeError: unsupported operand type(s) for +: 'dict' and 'dict'\n",
    "\n",
    "\n",
    "### Create a Python script file named data_types_and_variables.py.\n",
    "# Inside it, write some Python code, that is, variables and operators, to describe the following scenarios.\n",
    "# Do not worry about the real operations to get the values, the goal of these exercises is to understand how real world conditions can be represented with code\n",
    "\n",
    "# 1. You have rented some movies for your kids: The little mermaid (for 3 days), Brother Bear (for 5 days, they love it), and Hercules (1 day, you don't know yet if they're going to like it).\n",
    "# If price for a movie per day is 3 dollars, how much will you have to pay?"
   ]
  },
  {
   "cell_type": "code",
   "execution_count": 4,
   "metadata": {},
   "outputs": [
    {
     "name": "stdout",
     "output_type": "stream",
     "text": [
      "27\n"
     ]
    }
   ],
   "source": [
    "The_Little_Mermaid = a = 1\n",
    "Brother_Bear = b = 1\n",
    "Hercules = c = 1\n",
    "dayrent = 3\n",
    "Total_Rent = dayrent * (3 * a + 5 * b + c)\n",
    "print(Total_Rent)"
   ]
  },
  {
   "cell_type": "code",
   "execution_count": 2,
   "metadata": {},
   "outputs": [
    {
     "name": "stdout",
     "output_type": "stream",
     "text": [
      "7500\n"
     ]
    }
   ],
   "source": [
    "Google = a = 400\n",
    "Amazon = b = 380\n",
    "Facebook = c = 350\n",
    "This_Week_Check = (10 * c + 6 * a + 4 * a)\n",
    "print(This_Week_Check)"
   ]
  },
  {
   "cell_type": "code",
   "execution_count": 5,
   "metadata": {},
   "outputs": [
    {
     "name": "stdout",
     "output_type": "stream",
     "text": [
      "True\n"
     ]
    }
   ],
   "source": [
    "full_class = True\n",
    "schedule_conflict = True\n",
    "Enrolled_Student = (full_class and schedule_conflict)\n",
    "print(Enrolled_Student)"
   ]
  },
  {
   "cell_type": "code",
   "execution_count": 16,
   "metadata": {},
   "outputs": [
    {
     "name": "stdout",
     "output_type": "stream",
     "text": [
      "False\n"
     ]
    }
   ],
   "source": [
    "Buys_more_than_2 = True\n",
    "Not_expired = False\n",
    "Premium_member = True\n",
    "Product_offer = (Buys_more_than_2 and Not_expired) or (Premium_member and Not_expired)\n",
    "print(Product_offer)"
   ]
  },
  {
   "cell_type": "code",
   "execution_count": 44,
   "metadata": {
    "scrolled": true
   },
   "outputs": [
    {
     "data": {
      "text/plain": [
       "True"
      ]
     },
     "execution_count": 44,
     "metadata": {},
     "output_type": "execute_result"
    }
   ],
   "source": [
    "username = 'codeup'\n",
    "password = 'notastrongpassword'\n",
    "len(password) > 4\n",
    "len(username) < 21\n",
    "password != username\n",
    "password.startswith != \" \" and password.endswith != \" \"\n",
    "username.startswith != \" \" and username.endswith != \" \""
   ]
  },
  {
   "cell_type": "code",
   "execution_count": null,
   "metadata": {},
   "outputs": [],
   "source": []
  }
 ],
 "metadata": {
  "kernelspec": {
   "display_name": "Python 3",
   "language": "python",
   "name": "python3"
  },
  "language_info": {
   "codemirror_mode": {
    "name": "ipython",
    "version": 3
   },
   "file_extension": ".py",
   "mimetype": "text/x-python",
   "name": "python",
   "nbconvert_exporter": "python",
   "pygments_lexer": "ipython3",
   "version": "3.8.5"
  }
 },
 "nbformat": 4,
 "nbformat_minor": 4
}
