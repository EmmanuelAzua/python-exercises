{
 "cells": [
  {
   "cell_type": "code",
   "execution_count": null,
   "metadata": {},
   "outputs": [],
   "source": [
    "def is_two(input):\n",
    "    if input == 2:\n",
    "        return True\n",
    "    elif input == \"2\":\n",
    "        return True\n",
    "    else:\n",
    "        return False\n",
    "\n",
    "is_two(3)\n"
   ]
  },
  {
   "cell_type": "code",
   "execution_count": null,
   "metadata": {},
   "outputs": [],
   "source": [
    "def change_first_consonant(string):\n",
    "    if string in (\"a\", \"e\", \"i\", \"o\", \"u\"):\n",
    "        return (\"Not a Valid String. Try again\")\n",
    "    else:\n",
    "        return str.capitalize\n",
    "change_first_consonant(\"ave\")\n"
   ]
  },
  {
   "cell_type": "code",
   "execution_count": null,
   "metadata": {},
   "outputs": [],
   "source": [
    "def change_first_consonant(string):\n",
    "    if string[0] in (\"a\", \"e\", \"i\", \"o\", \"u\"):\n",
    "        return (\"Not a Valid String. Try again\")\n",
    "    else:\n",
    "        return \n",
    "change_first_consonant(\"ave\")\n",
    "print(change_first_consonant(\"ave\"))"
   ]
  },
  {
   "cell_type": "code",
   "execution_count": null,
   "metadata": {},
   "outputs": [],
   "source": [
    "def change_first_consonant(string):\n",
    "    if string[0] in (\"a\", \"e\", \"i\", \"o\", \"u\"):\n",
    "        return (\"Not a Valid String. Try again\")\n",
    "    else:\n",
    "        return string.capitalize()\n",
    "change_first_consonant(\"perrito\")\n",
    "print(change_first_consonant(\"perrito\"))"
   ]
  },
  {
   "cell_type": "code",
   "execution_count": null,
   "metadata": {},
   "outputs": [],
   "source": [
    "def calculate_tip(tip_percentage, bill_total):\n",
    "    if tip_percentage in range(0, 1):\n",
    "        return tip_percentage == (tip_percentage * bill_total)\n",
    "    else:\n",
    "        return \"Not a valid tip amount. You're a horrible tipper\"\n",
    "\n",
    "calculate_tip(1, 500)\n",
    "print(calculate_tip(1, 500))"
   ]
  },
  {
   "cell_type": "code",
   "execution_count": null,
   "metadata": {},
   "outputs": [],
   "source": [
    "def calculate_tip(tip_percentage, bill_total):\n",
    "    if tip_percentage >= 0 and tip_percentage <= 1:\n",
    "        return (tip_percentage * bill_total)\n",
    "    elif tip_percentage > 1:\n",
    "        return \"You're an awesome tipper!\"\n",
    "    else:\n",
    "        return \"Not a valid tip amount: Either the service sucks, or you are a horrible tipper.\"\n",
    "\n",
    "calculate_tip(2, 500)\n",
    "print(calculate_tip(2, 500))"
   ]
  },
  {
   "cell_type": "code",
   "execution_count": null,
   "metadata": {},
   "outputs": [],
   "source": [
    "float(30)"
   ]
  },
  {
   "cell_type": "code",
   "execution_count": null,
   "metadata": {},
   "outputs": [],
   "source": [
    "def apply_discount(original_price, discount_percentage):\n",
    "    if original_price > 0:\n",
    "        return (original_price - (original_price * (discount_percentage/100)))\n",
    "    else:\n",
    "        return \"Wrong price\"\n",
    "print(apply_discount(500, 30))"
   ]
  },
  {
   "cell_type": "code",
   "execution_count": null,
   "metadata": {},
   "outputs": [],
   "source": [
    "def remove_vowels(string):\n",
    "    vowels = (\"a\", \"e\", \"i\", \"o\", \"u\", \"A\", \"E\", \"I\", \"O\", \"U\")\n",
    "    for letter in string:\n",
    "        if letter in vowels:\n",
    "            string = string.replace(letter, \"\")\n",
    "    return string\n",
    "remove_vowels(\"perrito\")\n",
    "print(remove_vowels(\"perrito\"))"
   ]
  },
  {
   "cell_type": "code",
   "execution_count": null,
   "metadata": {},
   "outputs": [],
   "source": [
    "def normalize_name(string):\n",
    "    if string == (\"100% Completed\"):\n",
    "        return string.strip(\"100%\").lower()\n",
    "    return string.lower().rstrip(\" \").lstrip(\" \").replace(\" \", \"_\")\n",
    "print(normalize_name(\"    EL PATRIARCADO DEBE CAER!!!   KLJSNDDF JNLiulenjna 38278347y24 @##@#E      \"))"
   ]
  },
  {
   "cell_type": "code",
   "execution_count": null,
   "metadata": {},
   "outputs": [],
   "source": [
    "def isnegative(number):\n",
    "    if number < 0:\n",
    "        return True\n",
    "    else:\n",
    "        False\n",
    "print(isnegative(-5))"
   ]
  },
  {
   "cell_type": "code",
   "execution_count": null,
   "metadata": {},
   "outputs": [],
   "source": [
    "def isnegative(number):\n",
    "    if number < 0:\n",
    "        return True\n",
    "    else:\n",
    "        return False\n",
    "print(isnegative(5))"
   ]
  },
  {
   "cell_type": "code",
   "execution_count": null,
   "metadata": {},
   "outputs": [],
   "source": [
    "type(isnegative)"
   ]
  },
  {
   "cell_type": "code",
   "execution_count": null,
   "metadata": {},
   "outputs": [],
   "source": [
    "def count_evens(numbers):\n",
    "    numbers = [1, 2, 3, 4, 5, 6, 7, 8, 9]\n",
    "    even_numbers = []\n",
    "    for number in numbers [number % 2 == 0]:\n",
    "        even_numbers.append()     \n",
    "    print(even_numbers)"
   ]
  },
  {
   "cell_type": "code",
   "execution_count": null,
   "metadata": {},
   "outputs": [],
   "source": [
    "\n",
    "def count_evens(numbers):\n",
    "    numbers = [10]\n",
    "    even_numbers = [number for number in range(numbers + 1) if num % 2 != 0]\n",
    "    return even_numbers\n",
    "count_evens(numbers)"
   ]
  },
  {
   "cell_type": "code",
   "execution_count": null,
   "metadata": {},
   "outputs": [],
   "source": [
    "numbers = [1, 2, 3, 4, 5, 6, 7, 8, 9]\n",
    "def count_evens(numbers):\n",
    "    even_numbers = []\n",
    "    for number in numbers [number % 2 == 0]:\n",
    "        return even_numbers.append(number)     \n",
    "    print(even_numbers)\n",
    "    print(len(even_numbers))"
   ]
  },
  {
   "cell_type": "code",
   "execution_count": 11,
   "metadata": {},
   "outputs": [],
   "source": [
    "def increment_odds():\n",
    "    numbers = [1, 2, 3, 4, 5, 6, 7, 8, 9]\n",
    "    odd_numbers = []\n",
    "    for number in numbers [number % 2 != 0]:\n",
    "         return odd_numbers.append()\n",
    "    oddnum_plusone = []\n",
    "    for num in odd_numbers [num + 1]:\n",
    "        return oddnum_plusone.append()\n",
    "    print(odd_numbers)\n",
    "    print(oddnum_plusone)"
   ]
  },
  {
   "cell_type": "code",
   "execution_count": 10,
   "metadata": {},
   "outputs": [],
   "source": [
    "def count_evens():\n",
    "    num_range = 10\n",
    "    even_numbers = [num for num in range(num_range) if num % 2 == 0]\n",
    "    print(count_evens(num_range))"
   ]
  },
  {
   "cell_type": "code",
   "execution_count": 16,
   "metadata": {},
   "outputs": [
    {
     "name": "stdout",
     "output_type": "stream",
     "text": [
      "Emmanuel_Rivera\n"
     ]
    }
   ],
   "source": [
    "def name_to_dict(string):\n",
    "    first_last_name = string.split()\n",
    "    name = first_last_name[0]\n",
    "    last_name = first_last_name[1]\n",
    "    full_name = {}\n",
    "    full_name[\"name\"] = name\n",
    "    full_name[\"last name\"] = last_name\n",
    "    return string.replace(\" \", \"_\")\n",
    "string = \"Emmanuel Rivera\"\n",
    "print(name_to_dict(string))"
   ]
  },
  {
   "cell_type": "code",
   "execution_count": 6,
   "metadata": {},
   "outputs": [
    {
     "ename": "NameError",
     "evalue": "name 'word_details' is not defined",
     "output_type": "error",
     "traceback": [
      "\u001b[0;31m---------------------------------------------------------------------------\u001b[0m",
      "\u001b[0;31mNameError\u001b[0m                                 Traceback (most recent call last)",
      "\u001b[0;32m<ipython-input-6-6440e96bb10d>\u001b[0m in \u001b[0;36m<module>\u001b[0;34m\u001b[0m\n\u001b[1;32m      7\u001b[0m     \u001b[0moriginal_word\u001b[0m \u001b[0;34m=\u001b[0m \u001b[0mword_details\u001b[0m\u001b[0;34m[\u001b[0m\u001b[0;36m1\u001b[0m\u001b[0;34m]\u001b[0m\u001b[0;34m\u001b[0m\u001b[0;34m\u001b[0m\u001b[0m\n\u001b[1;32m      8\u001b[0m     \u001b[0mnumber_of_vowels\u001b[0m \u001b[0;34m=\u001b[0m \u001b[0mword_details\u001b[0m\u001b[0;34m[\u001b[0m\u001b[0;36m2\u001b[0m\u001b[0;34m]\u001b[0m\u001b[0;34m\u001b[0m\u001b[0;34m\u001b[0m\u001b[0m\n\u001b[0;32m----> 9\u001b[0;31m \u001b[0mtype\u001b[0m\u001b[0;34m(\u001b[0m\u001b[0mword_details\u001b[0m\u001b[0;34m)\u001b[0m\u001b[0;34m\u001b[0m\u001b[0;34m\u001b[0m\u001b[0m\n\u001b[0m\u001b[1;32m     10\u001b[0m \u001b[0;31m#     (return len([char for char in word]))\u001b[0m\u001b[0;34m\u001b[0m\u001b[0;34m\u001b[0m\u001b[0;34m\u001b[0m\u001b[0m\n\u001b[1;32m     11\u001b[0m \u001b[0;31m#     print(len([char for char in word]))\u001b[0m\u001b[0;34m\u001b[0m\u001b[0;34m\u001b[0m\u001b[0;34m\u001b[0m\u001b[0m\n",
      "\u001b[0;31mNameError\u001b[0m: name 'word_details' is not defined"
     ]
    }
   ],
   "source": [
    "def analyze_word(word):\n",
    "    word_details = {}\n",
    "    word_details[\"number of characters\"] = number_of_characters\n",
    "    word_details[\"original word\"] = original_word\n",
    "    word_details[\"number of vowels in word\"] = number_of_vowels\n",
    "    number_of_characters = word_details[0]\n",
    "    original_word = word_details[1]\n",
    "    number_of_vowels = word_details[2]\n",
    "type(word_details)\n",
    "#     (return len([char for char in word]))\n",
    "#     print(len([char for char in word]))\n",
    "#     return word\n",
    "#     print (word)\n",
    "#     vowels = ['a', 'e', 'i', 'o', 'u']\n",
    "#     return len([i for i in word if i in vowels])\n",
    "#     print(len([i for i in word if i in vowels]))\n",
    "\n",
    "# word = \"word\"\n",
    "\n",
    "#string = \"Emmanuel Rivera\"\n",
    "# print(analyze_word(word))"
   ]
  }
 ],
 "metadata": {
  "kernelspec": {
   "display_name": "Python 3",
   "language": "python",
   "name": "python3"
  },
  "language_info": {
   "codemirror_mode": {
    "name": "ipython",
    "version": 3
   },
   "file_extension": ".py",
   "mimetype": "text/x-python",
   "name": "python",
   "nbconvert_exporter": "python",
   "pygments_lexer": "ipython3",
   "version": "3.8.5"
  }
 },
 "nbformat": 4,
 "nbformat_minor": 4
}
