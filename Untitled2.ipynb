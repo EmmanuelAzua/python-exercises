{
 "cells": [
  {
   "cell_type": "code",
   "execution_count": 1,
   "metadata": {},
   "outputs": [
    {
     "data": {
      "text/plain": [
       "False"
      ]
     },
     "execution_count": 1,
     "metadata": {},
     "output_type": "execute_result"
    }
   ],
   "source": [
    "def is_two(input):\n",
    "    if input == 2:\n",
    "        return True\n",
    "    elif input == \"2\":\n",
    "        return True\n",
    "    else:\n",
    "        return False\n",
    "\n",
    "is_two(3)\n"
   ]
  },
  {
   "cell_type": "code",
   "execution_count": 8,
   "metadata": {},
   "outputs": [
    {
     "data": {
      "text/plain": [
       "<method 'capitalize' of 'str' objects>"
      ]
     },
     "execution_count": 8,
     "metadata": {},
     "output_type": "execute_result"
    }
   ],
   "source": [
    "def change_first_consonant(string):\n",
    "    if string in (\"a\", \"e\", \"i\", \"o\", \"u\"):\n",
    "        return (\"Not a Valid String. Try again\")\n",
    "    else:\n",
    "        return str.capitalize\n",
    "change_first_consonant(\"ave\")\n"
   ]
  },
  {
   "cell_type": "code",
   "execution_count": 11,
   "metadata": {},
   "outputs": [
    {
     "name": "stdout",
     "output_type": "stream",
     "text": [
      "Not a Valid String. Try again\n"
     ]
    }
   ],
   "source": [
    "def change_first_consonant(string):\n",
    "    if string[0] in (\"a\", \"e\", \"i\", \"o\", \"u\"):\n",
    "        return (\"Not a Valid String. Try again\")\n",
    "    else:\n",
    "        return \n",
    "change_first_consonant(\"ave\")\n",
    "print(change_first_consonant(\"ave\"))"
   ]
  },
  {
   "cell_type": "code",
   "execution_count": 15,
   "metadata": {},
   "outputs": [
    {
     "name": "stdout",
     "output_type": "stream",
     "text": [
      "Perrito\n"
     ]
    }
   ],
   "source": [
    "def change_first_consonant(string):\n",
    "    if string[0] in (\"a\", \"e\", \"i\", \"o\", \"u\"):\n",
    "        return (\"Not a Valid String. Try again\")\n",
    "    else:\n",
    "        return string.capitalize()\n",
    "change_first_consonant(\"perrito\")\n",
    "print(change_first_consonant(\"perrito\"))"
   ]
  },
  {
   "cell_type": "code",
   "execution_count": 24,
   "metadata": {},
   "outputs": [
    {
     "name": "stdout",
     "output_type": "stream",
     "text": [
      "Not a valid tip amount. You're a horrible tipper\n"
     ]
    }
   ],
   "source": [
    "def calculate_tip(tip_percentage, bill_total):\n",
    "    if tip_percentage in range(0, 1):\n",
    "        return tip_percentage == (tip_percentage * bill_total)\n",
    "    else:\n",
    "        return \"Not a valid tip amount. You're a horrible tipper\"\n",
    "\n",
    "calculate_tip(1, 500)\n",
    "print(calculate_tip(1, 500))"
   ]
  },
  {
   "cell_type": "code",
   "execution_count": 43,
   "metadata": {},
   "outputs": [
    {
     "name": "stdout",
     "output_type": "stream",
     "text": [
      "You're an awesome tipper!\n"
     ]
    }
   ],
   "source": [
    "def calculate_tip(tip_percentage, bill_total):\n",
    "    if tip_percentage >= 0 and tip_percentage <= 1:\n",
    "        return (tip_percentage * bill_total)\n",
    "    elif tip_percentage > 1:\n",
    "        return \"You're an awesome tipper!\"\n",
    "    else:\n",
    "        return \"Not a valid tip amount: Either the service sucks, or you are a horrible tipper.\"\n",
    "\n",
    "calculate_tip(2, 500)\n",
    "print(calculate_tip(2, 500))"
   ]
  },
  {
   "cell_type": "code",
   "execution_count": 45,
   "metadata": {},
   "outputs": [
    {
     "data": {
      "text/plain": [
       "30.0"
      ]
     },
     "execution_count": 45,
     "metadata": {},
     "output_type": "execute_result"
    }
   ],
   "source": [
    "float(30)"
   ]
  },
  {
   "cell_type": "code",
   "execution_count": 48,
   "metadata": {},
   "outputs": [
    {
     "name": "stdout",
     "output_type": "stream",
     "text": [
      "350.0\n"
     ]
    }
   ],
   "source": [
    "def apply_discount(original_price, discount_percentage):\n",
    "    if original_price > 0:\n",
    "        return (original_price - (original_price * (discount_percentage/100)))\n",
    "    else:\n",
    "        return \"Wrong price\"\n",
    "print(apply_discount(500, 30))"
   ]
  },
  {
   "cell_type": "code",
   "execution_count": 66,
   "metadata": {},
   "outputs": [
    {
     "name": "stdout",
     "output_type": "stream",
     "text": [
      "prrt\n"
     ]
    }
   ],
   "source": [
    "def remove_vowels(string):\n",
    "    vowels = (\"a\", \"e\", \"i\", \"o\", \"u\", \"A\", \"E\", \"I\", \"O\", \"U\")\n",
    "    for letter in string:\n",
    "        if letter in vowels:\n",
    "            string = string.replace(letter, \"\")\n",
    "    return string\n",
    "remove_vowels(\"perrito\")\n",
    "print(remove_vowels(\"perrito\"))"
   ]
  },
  {
   "cell_type": "code",
   "execution_count": 38,
   "metadata": {},
   "outputs": [
    {
     "name": "stdout",
     "output_type": "stream",
     "text": [
      "el_patriarcado_debe_caer!!!___kljsnddf_jnliulenjna_38278347y24_@##@#e\n"
     ]
    }
   ],
   "source": [
    "def normalize_name(string):\n",
    "    if string == (\"100% Completed\"):\n",
    "        return string.strip(\"100%\").lower()\n",
    "    return string.lower().rstrip(\" \").lstrip(\" \").replace(\" \", \"_\")\n",
    "print(normalize_name(\"    EL PATRIARCADO DEBE CAER!!!   KLJSNDDF JNLiulenjna 38278347y24 @##@#E      \"))"
   ]
  },
  {
   "cell_type": "code",
   "execution_count": null,
   "metadata": {},
   "outputs": [],
   "source": []
  }
 ],
 "metadata": {
  "kernelspec": {
   "display_name": "Python 3",
   "language": "python",
   "name": "python3"
  },
  "language_info": {
   "codemirror_mode": {
    "name": "ipython",
    "version": 3
   },
   "file_extension": ".py",
   "mimetype": "text/x-python",
   "name": "python",
   "nbconvert_exporter": "python",
   "pygments_lexer": "ipython3",
   "version": "3.8.5"
  }
 },
 "nbformat": 4,
 "nbformat_minor": 4
}
